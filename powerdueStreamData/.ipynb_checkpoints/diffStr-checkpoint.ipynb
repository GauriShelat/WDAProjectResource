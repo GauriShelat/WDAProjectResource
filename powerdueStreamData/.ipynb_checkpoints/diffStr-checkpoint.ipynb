{
 "cells": [
  {
   "cell_type": "code",
   "execution_count": 1,
   "metadata": {},
   "outputs": [],
   "source": [
    "import difflib"
   ]
  },
  {
   "cell_type": "code",
   "execution_count": 2,
   "metadata": {},
   "outputs": [],
   "source": [
    "\n",
    "def diff(a, b):\n",
    "    for i,s in enumerate(difflib.ndiff(a, b)):\n",
    "        if s[0]==' ': continue\n",
    "        elif s[0]=='-':\n",
    "            print(u'Delete \"{}\" from position {}'.format(s[-1],i))\n",
    "        elif s[0]=='+':\n",
    "            print(u'Add \"{}\" to position {}'.format(s[-1],i))    \n",
    "    print()  "
   ]
  },
  {
   "cell_type": "code",
   "execution_count": 3,
   "metadata": {},
   "outputs": [
    {
     "name": "stdout",
     "output_type": "stream",
     "text": [
      "Delete \"\t\" from position 12\n",
      "()\n"
     ]
    }
   ],
   "source": [
    "\n",
    "a=\"BurgosMillie\t\t@susan soltero #TodossomosSusan.......y recuerda que nadie le tira piedras a un Ã¡rbol que no da frutos.......Bendecida\"\n",
    "b=\"BurgosMillie\t@susan soltero #TodossomosSusan.......y recuerda que nadie le tira piedras a un Ã¡rbol que no da frutos.......Bendecida\"\n",
    "\n",
    "diff(a,b)\n"
   ]
  },
  {
   "cell_type": "code",
   "execution_count": null,
   "metadata": {},
   "outputs": [],
   "source": []
  }
 ],
 "metadata": {
  "kernelspec": {
   "display_name": "Python 2",
   "language": "python",
   "name": "python2"
  },
  "language_info": {
   "codemirror_mode": {
    "name": "ipython",
    "version": 2
   },
   "file_extension": ".py",
   "mimetype": "text/x-python",
   "name": "python",
   "nbconvert_exporter": "python",
   "pygments_lexer": "ipython2",
   "version": "2.7.10"
  }
 },
 "nbformat": 4,
 "nbformat_minor": 2
}
